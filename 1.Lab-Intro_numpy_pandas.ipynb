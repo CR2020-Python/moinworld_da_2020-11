{
 "cells": [
  {
   "cell_type": "markdown",
   "metadata": {},
   "source": [
    "### 1. Import NumPy and Pandas"
   ]
  },
  {
   "cell_type": "code",
   "execution_count": null,
   "metadata": {},
   "outputs": [],
   "source": [
    "\n"
   ]
  },
  {
   "cell_type": "markdown",
   "metadata": {},
   "source": [
    "In this lab we'll generate random numbers. Which also means, that the results between everyone will be different.   \n",
    "However it would be better if the results amongst you were consistent. That means they are reproducable and easier for me to identify any mistakes.   \n",
    "To achieve that, we will set the seed in numpy.random, which will make random numbers predictable.   \n",
    "For a detailed explanation you can check the accepted answer in this post: https://stackoverflow.com/questions/21494489/what-does-numpy-random-seed0-dohttps://stackoverflow.com/questions/21494489/what-does-numpy-random-seed0-do  \n",
    "\n",
    "For now, just run the next cell :)\n"
   ]
  },
  {
   "cell_type": "code",
   "execution_count": null,
   "metadata": {},
   "outputs": [],
   "source": [
    "np.random.seed(5)"
   ]
  },
  {
   "cell_type": "markdown",
   "metadata": {},
   "source": [
    "### 2a. Create a  pd.Series with 10 elements"
   ]
  },
  {
   "cell_type": "code",
   "execution_count": null,
   "metadata": {},
   "outputs": [],
   "source": []
  },
  {
   "cell_type": "markdown",
   "metadata": {},
   "source": [
    "#### Return the 5th element"
   ]
  },
  {
   "cell_type": "code",
   "execution_count": null,
   "metadata": {},
   "outputs": [],
   "source": []
  },
  {
   "cell_type": "markdown",
   "metadata": {},
   "source": [
    "#### Return the last element"
   ]
  },
  {
   "cell_type": "code",
   "execution_count": null,
   "metadata": {},
   "outputs": [],
   "source": []
  },
  {
   "cell_type": "markdown",
   "metadata": {},
   "source": [
    "#### Return the 7th-9th elements"
   ]
  },
  {
   "cell_type": "code",
   "execution_count": null,
   "metadata": {},
   "outputs": [],
   "source": []
  },
  {
   "cell_type": "markdown",
   "metadata": {},
   "source": [
    "### 2b. Create a 2D numpy array of size (10,4)"
   ]
  },
  {
   "cell_type": "code",
   "execution_count": null,
   "metadata": {},
   "outputs": [],
   "source": []
  },
  {
   "cell_type": "markdown",
   "metadata": {},
   "source": [
    "#### Use slicing and indexing to play around with your array. Explore what results you get with different combinations."
   ]
  },
  {
   "cell_type": "code",
   "execution_count": null,
   "metadata": {},
   "outputs": [],
   "source": []
  },
  {
   "cell_type": "code",
   "execution_count": null,
   "metadata": {},
   "outputs": [],
   "source": []
  },
  {
   "cell_type": "code",
   "execution_count": null,
   "metadata": {},
   "outputs": [],
   "source": []
  },
  {
   "cell_type": "code",
   "execution_count": null,
   "metadata": {},
   "outputs": [],
   "source": []
  },
  {
   "cell_type": "code",
   "execution_count": null,
   "metadata": {},
   "outputs": [],
   "source": []
  },
  {
   "cell_type": "markdown",
   "metadata": {},
   "source": [
    "### 3. Lets create a dataframe holding the grades of 50 students, in 5 courses\n",
    "- min grade: 0 \n",
    "- max grade: 100\n",
    "- columns: courses\n",
    "- rows: students\n",
    "\n",
    "In class we saw how to create a numpy array with random floats. Here is how to create one with random integers"
   ]
  },
  {
   "cell_type": "code",
   "execution_count": null,
   "metadata": {},
   "outputs": [],
   "source": [
    "# this function chooses a random integer from 0 to 100, as many times necessary to create an ndarray of size (10,5)\n",
    "nd_array_radom_integer = np.random.randint(low=0, high=101, size=(50, 5))"
   ]
  },
  {
   "cell_type": "markdown",
   "metadata": {},
   "source": [
    "#### Create a pd.DataFrame from the nd_array_radom_integer and call it 'grades'"
   ]
  },
  {
   "cell_type": "code",
   "execution_count": null,
   "metadata": {},
   "outputs": [],
   "source": []
  },
  {
   "cell_type": "markdown",
   "metadata": {},
   "source": [
    "### 4. Use the list 'col_names' to rename the columns of 'gradesgrades'\n",
    "Not sure how? Look into the pandas documentation"
   ]
  },
  {
   "cell_type": "code",
   "execution_count": null,
   "metadata": {},
   "outputs": [],
   "source": [
    "col_names = ['Algebra', 'History', 'Physics', 'Biology', 'Language']"
   ]
  },
  {
   "cell_type": "code",
   "execution_count": null,
   "metadata": {},
   "outputs": [],
   "source": []
  },
  {
   "cell_type": "markdown",
   "metadata": {},
   "source": [
    "#### How many ways can you think of, to check if you were successuf? (In other words, what methods do you know that will contain the column names of a dataframe in their output? )"
   ]
  },
  {
   "cell_type": "code",
   "execution_count": null,
   "metadata": {},
   "outputs": [],
   "source": []
  },
  {
   "cell_type": "code",
   "execution_count": null,
   "metadata": {},
   "outputs": [],
   "source": []
  },
  {
   "cell_type": "code",
   "execution_count": null,
   "metadata": {},
   "outputs": [],
   "source": []
  },
  {
   "cell_type": "markdown",
   "metadata": {},
   "source": [
    "### 5. Use head, info and describe to get basic info about the dataframe. "
   ]
  },
  {
   "cell_type": "code",
   "execution_count": null,
   "metadata": {},
   "outputs": [],
   "source": []
  },
  {
   "cell_type": "code",
   "execution_count": null,
   "metadata": {},
   "outputs": [],
   "source": []
  },
  {
   "cell_type": "code",
   "execution_count": null,
   "metadata": {},
   "outputs": [],
   "source": []
  },
  {
   "cell_type": "markdown",
   "metadata": {},
   "source": [
    "#### Find the median (not the mean) grade for Physics"
   ]
  },
  {
   "cell_type": "code",
   "execution_count": null,
   "metadata": {},
   "outputs": [],
   "source": []
  },
  {
   "cell_type": "markdown",
   "metadata": {},
   "source": [
    "### 6. Add a new column to the dataframe called 'Average'. It should be the mean of each row. \n",
    "*Hint: using axis=1 as an argument will calculate the mean across a row*"
   ]
  },
  {
   "cell_type": "code",
   "execution_count": null,
   "metadata": {},
   "outputs": [],
   "source": []
  },
  {
   "cell_type": "code",
   "execution_count": null,
   "metadata": {},
   "outputs": [],
   "source": []
  },
  {
   "cell_type": "markdown",
   "metadata": {},
   "source": [
    "#### Check that it worked"
   ]
  },
  {
   "cell_type": "markdown",
   "metadata": {},
   "source": [
    "### 7.  If 50% is the average needed to pass, how many students have passed? \n",
    "\n",
    "*Hint: you will need to select part of the dataframe and find the size of the selection*"
   ]
  },
  {
   "cell_type": "code",
   "execution_count": null,
   "metadata": {},
   "outputs": [],
   "source": []
  },
  {
   "cell_type": "code",
   "execution_count": null,
   "metadata": {},
   "outputs": [],
   "source": []
  },
  {
   "cell_type": "markdown",
   "metadata": {},
   "source": [
    "### 8. How many perfect grades (100) have been assigned to each class? \n",
    "*Hint: you can use the method .count()*"
   ]
  },
  {
   "cell_type": "code",
   "execution_count": null,
   "metadata": {},
   "outputs": [],
   "source": []
  },
  {
   "cell_type": "markdown",
   "metadata": {},
   "source": [
    "### 9. Let's create a scatter plot for  'Biology'"
   ]
  },
  {
   "cell_type": "markdown",
   "metadata": {},
   "source": [
    "#### First try to find the answer on your own. A problem will arise, try to think of a way to overcome it.\n",
    "Whether you solved it or not, in the end, expand the contents of the next cell. "
   ]
  },
  {
   "cell_type": "markdown",
   "metadata": {
    "jupyter": {
     "source_hidden": true
    }
   },
   "source": [
    "If you look at the documentation for .plot.scatter() you will see that the first arguments it takes are:   \n",
    "- x : int or str. The **column name or column position** to be used as horizontal coordinates for each point.\n",
    "- y : int or str.   The column name or column position to be used as vertical  coordinates for each point.\n",
    "\n",
    "So it requires to know what to put on the x and y axis. In other words, you need to plot 'Biology' against something, which in our case can be the student number (our index).   \n",
    "To do that,  all we have to do is add a new column to out dataframe. One way would be:   \n",
    "`grades['Student']=range(0,50)`\n",
    "\n",
    "But let's try something else:   \n",
    "` grades.reset_index(inplace=True)`\n",
    "\n",
    "This will create a new column called 'index' using the values of the index. The argument 'inplace' means that adding the new columns is a permanent change to the dataframe."
   ]
  },
  {
   "cell_type": "code",
   "execution_count": null,
   "metadata": {},
   "outputs": [],
   "source": []
  },
  {
   "cell_type": "markdown",
   "metadata": {},
   "source": [
    "### 10. Let's create a histogram for Algebra\n",
    "\n",
    "Look at the next command `.plot.hist()`\n",
    "##### A histogram is a representation of the distribution of data. \n",
    "We're using the argument `figsize` to make the plot bigger and `bins` to group the grades.    \n",
    "10 bins means that we're splitting the grades in 10 groups (0-10, 11-20, 21-30, ... , 91-100)"
   ]
  },
  {
   "cell_type": "code",
   "execution_count": null,
   "metadata": {},
   "outputs": [],
   "source": [
    "grades['Algebra'].plot.hist(figsize=(20,10), bins=10)"
   ]
  },
  {
   "cell_type": "markdown",
   "metadata": {},
   "source": [
    "#### Change the numbers in figsize"
   ]
  },
  {
   "cell_type": "markdown",
   "metadata": {},
   "source": [
    "### Change the number of bins and observe how the plot changes."
   ]
  },
  {
   "cell_type": "markdown",
   "metadata": {},
   "source": [
    "So what is the correct number of bins?   \n",
    "In the case above, splitting the grades in groups of 10 is reasonable. But in most cases it's not that simple - luckily the necessary math, are already implemented in the functions making histograms.   \n",
    "But it's good to know and understand the basic differences behind them.    \n",
    "You can read more on the topic here https://www.statisticshowto.com/choose-bin-sizes-statistics/"
   ]
  },
  {
   "cell_type": "markdown",
   "metadata": {},
   "source": [
    "## You're done!\n",
    "\n",
    "Add, commit, and push your changes to this notebook to your repo and then submit a pull request. "
   ]
  }
 ],
 "metadata": {
  "kernelspec": {
   "display_name": "Python 3",
   "language": "python",
   "name": "python3"
  },
  "language_info": {
   "codemirror_mode": {
    "name": "ipython",
    "version": 3
   },
   "file_extension": ".py",
   "mimetype": "text/x-python",
   "name": "python",
   "nbconvert_exporter": "python",
   "pygments_lexer": "ipython3",
   "version": "3.7.8"
  }
 },
 "nbformat": 4,
 "nbformat_minor": 4
}
